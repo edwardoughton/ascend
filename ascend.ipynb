{
  "nbformat": 4,
  "nbformat_minor": 0,
  "metadata": {
    "colab": {
      "provenance": [],
      "authorship_tag": "ABX9TyMRhvGSaqll95XUdFncyhM3",
      "include_colab_link": true
    },
    "kernelspec": {
      "name": "python3",
      "display_name": "Python 3"
    },
    "language_info": {
      "name": "python"
    }
  },
  "cells": [
    {
      "cell_type": "markdown",
      "metadata": {
        "id": "view-in-github",
        "colab_type": "text"
      },
      "source": [
        "<a href=\"https://colab.research.google.com/github/edwardoughton/ascend/blob/main/ascend.ipynb\" target=\"_parent\"><img src=\"https://colab.research.google.com/assets/colab-badge.svg\" alt=\"Open In Colab\"/></a>"
      ]
    },
    {
      "cell_type": "code",
      "execution_count": null,
      "metadata": {
        "colab": {
          "base_uri": "https://localhost:8080/",
          "height": 434
        },
        "id": "JRd8bRKiWkeN",
        "outputId": "d4939503-1c72-4b31-b485-ed184b4b03bb"
      },
      "outputs": [
        {
          "output_type": "display_data",
          "data": {
            "text/plain": [
              "<IPython.core.display.HTML object>"
            ],
            "text/html": [
              "\n",
              "     <input type=\"file\" id=\"files-3656f724-a3d2-4227-8707-e8af5399643f\" name=\"files[]\" multiple disabled\n",
              "        style=\"border:none\" />\n",
              "     <output id=\"result-3656f724-a3d2-4227-8707-e8af5399643f\">\n",
              "      Upload widget is only available when the cell has been executed in the\n",
              "      current browser session. Please rerun this cell to enable.\n",
              "      </output>\n",
              "      <script>// Copyright 2017 Google LLC\n",
              "//\n",
              "// Licensed under the Apache License, Version 2.0 (the \"License\");\n",
              "// you may not use this file except in compliance with the License.\n",
              "// You may obtain a copy of the License at\n",
              "//\n",
              "//      http://www.apache.org/licenses/LICENSE-2.0\n",
              "//\n",
              "// Unless required by applicable law or agreed to in writing, software\n",
              "// distributed under the License is distributed on an \"AS IS\" BASIS,\n",
              "// WITHOUT WARRANTIES OR CONDITIONS OF ANY KIND, either express or implied.\n",
              "// See the License for the specific language governing permissions and\n",
              "// limitations under the License.\n",
              "\n",
              "/**\n",
              " * @fileoverview Helpers for google.colab Python module.\n",
              " */\n",
              "(function(scope) {\n",
              "function span(text, styleAttributes = {}) {\n",
              "  const element = document.createElement('span');\n",
              "  element.textContent = text;\n",
              "  for (const key of Object.keys(styleAttributes)) {\n",
              "    element.style[key] = styleAttributes[key];\n",
              "  }\n",
              "  return element;\n",
              "}\n",
              "\n",
              "// Max number of bytes which will be uploaded at a time.\n",
              "const MAX_PAYLOAD_SIZE = 100 * 1024;\n",
              "\n",
              "function _uploadFiles(inputId, outputId) {\n",
              "  const steps = uploadFilesStep(inputId, outputId);\n",
              "  const outputElement = document.getElementById(outputId);\n",
              "  // Cache steps on the outputElement to make it available for the next call\n",
              "  // to uploadFilesContinue from Python.\n",
              "  outputElement.steps = steps;\n",
              "\n",
              "  return _uploadFilesContinue(outputId);\n",
              "}\n",
              "\n",
              "// This is roughly an async generator (not supported in the browser yet),\n",
              "// where there are multiple asynchronous steps and the Python side is going\n",
              "// to poll for completion of each step.\n",
              "// This uses a Promise to block the python side on completion of each step,\n",
              "// then passes the result of the previous step as the input to the next step.\n",
              "function _uploadFilesContinue(outputId) {\n",
              "  const outputElement = document.getElementById(outputId);\n",
              "  const steps = outputElement.steps;\n",
              "\n",
              "  const next = steps.next(outputElement.lastPromiseValue);\n",
              "  return Promise.resolve(next.value.promise).then((value) => {\n",
              "    // Cache the last promise value to make it available to the next\n",
              "    // step of the generator.\n",
              "    outputElement.lastPromiseValue = value;\n",
              "    return next.value.response;\n",
              "  });\n",
              "}\n",
              "\n",
              "/**\n",
              " * Generator function which is called between each async step of the upload\n",
              " * process.\n",
              " * @param {string} inputId Element ID of the input file picker element.\n",
              " * @param {string} outputId Element ID of the output display.\n",
              " * @return {!Iterable<!Object>} Iterable of next steps.\n",
              " */\n",
              "function* uploadFilesStep(inputId, outputId) {\n",
              "  const inputElement = document.getElementById(inputId);\n",
              "  inputElement.disabled = false;\n",
              "\n",
              "  const outputElement = document.getElementById(outputId);\n",
              "  outputElement.innerHTML = '';\n",
              "\n",
              "  const pickedPromise = new Promise((resolve) => {\n",
              "    inputElement.addEventListener('change', (e) => {\n",
              "      resolve(e.target.files);\n",
              "    });\n",
              "  });\n",
              "\n",
              "  const cancel = document.createElement('button');\n",
              "  inputElement.parentElement.appendChild(cancel);\n",
              "  cancel.textContent = 'Cancel upload';\n",
              "  const cancelPromise = new Promise((resolve) => {\n",
              "    cancel.onclick = () => {\n",
              "      resolve(null);\n",
              "    };\n",
              "  });\n",
              "\n",
              "  // Wait for the user to pick the files.\n",
              "  const files = yield {\n",
              "    promise: Promise.race([pickedPromise, cancelPromise]),\n",
              "    response: {\n",
              "      action: 'starting',\n",
              "    }\n",
              "  };\n",
              "\n",
              "  cancel.remove();\n",
              "\n",
              "  // Disable the input element since further picks are not allowed.\n",
              "  inputElement.disabled = true;\n",
              "\n",
              "  if (!files) {\n",
              "    return {\n",
              "      response: {\n",
              "        action: 'complete',\n",
              "      }\n",
              "    };\n",
              "  }\n",
              "\n",
              "  for (const file of files) {\n",
              "    const li = document.createElement('li');\n",
              "    li.append(span(file.name, {fontWeight: 'bold'}));\n",
              "    li.append(span(\n",
              "        `(${file.type || 'n/a'}) - ${file.size} bytes, ` +\n",
              "        `last modified: ${\n",
              "            file.lastModifiedDate ? file.lastModifiedDate.toLocaleDateString() :\n",
              "                                    'n/a'} - `));\n",
              "    const percent = span('0% done');\n",
              "    li.appendChild(percent);\n",
              "\n",
              "    outputElement.appendChild(li);\n",
              "\n",
              "    const fileDataPromise = new Promise((resolve) => {\n",
              "      const reader = new FileReader();\n",
              "      reader.onload = (e) => {\n",
              "        resolve(e.target.result);\n",
              "      };\n",
              "      reader.readAsArrayBuffer(file);\n",
              "    });\n",
              "    // Wait for the data to be ready.\n",
              "    let fileData = yield {\n",
              "      promise: fileDataPromise,\n",
              "      response: {\n",
              "        action: 'continue',\n",
              "      }\n",
              "    };\n",
              "\n",
              "    // Use a chunked sending to avoid message size limits. See b/62115660.\n",
              "    let position = 0;\n",
              "    do {\n",
              "      const length = Math.min(fileData.byteLength - position, MAX_PAYLOAD_SIZE);\n",
              "      const chunk = new Uint8Array(fileData, position, length);\n",
              "      position += length;\n",
              "\n",
              "      const base64 = btoa(String.fromCharCode.apply(null, chunk));\n",
              "      yield {\n",
              "        response: {\n",
              "          action: 'append',\n",
              "          file: file.name,\n",
              "          data: base64,\n",
              "        },\n",
              "      };\n",
              "\n",
              "      let percentDone = fileData.byteLength === 0 ?\n",
              "          100 :\n",
              "          Math.round((position / fileData.byteLength) * 100);\n",
              "      percent.textContent = `${percentDone}% done`;\n",
              "\n",
              "    } while (position < fileData.byteLength);\n",
              "  }\n",
              "\n",
              "  // All done.\n",
              "  yield {\n",
              "    response: {\n",
              "      action: 'complete',\n",
              "    }\n",
              "  };\n",
              "}\n",
              "\n",
              "scope.google = scope.google || {};\n",
              "scope.google.colab = scope.google.colab || {};\n",
              "scope.google.colab._files = {\n",
              "  _uploadFiles,\n",
              "  _uploadFilesContinue,\n",
              "};\n",
              "})(self);\n",
              "</script> "
            ]
          },
          "metadata": {}
        },
        {
          "output_type": "stream",
          "name": "stdout",
          "text": [
            "Saving mission_minutes_2023.csv to mission_minutes_2023.csv\n",
            "Saving missions.csv to missions.csv\n",
            "Saving scenario_costs.csv to scenario_costs.csv\n"
          ]
        },
        {
          "output_type": "execute_result",
          "data": {
            "text/plain": [
              "{'mission_minutes_2023.csv': b'use_case,method,mean_minutes_2023\\r\\nHuman Space Flight,DTE,115860\\r\\nNear Earth Robotic - LEO Science,DTE,19395\\r\\nNear Earth Robotic - GEO and Near Earth,DTE,30865\\r\\nDeep Space Robotic,DTE,0\\r\\nNear Earth Robotic - Low Latency & Complex Needs,DTE,22562\\r\\nMission Operations,DTE,0\\r\\nTerrestrial & Aerial,DTE,0\\r\\nHuman Space Flight,SR,178044\\r\\nNear Earth Robotic - LEO Science,SR,151730\\r\\nNear Earth Robotic - GEO and Near Earth,SR,109\\r\\nDeep Space Robotic,SR,572\\r\\nNear Earth Robotic - Low Latency & Complex Needs,SR,4094\\r\\nMission Operations,SR,0\\r\\nTerrestrial & Aerial,SR,17344\\r\\n',\n",
              " 'missions.csv': b'use_case,type,method,Current,Low,Baseline,High\\r\\nHuman Space Flight,ADD,DTE,4,2,4,7\\r\\nNear Earth Robotic - LEO Science,ADD,DTE,34,18,33,58\\r\\nNear Earth Robotic - GEO and Near Earth,ADD,DTE,11,6,11,19\\r\\nDeep Space Robotic,ADD,DTE,0,0,0,0\\r\\nNear Earth Robotic - Low Latency & Complex Needs,ADD,DTE,1,1,1,2\\r\\nMission Operations,ADD,DTE,0,0,0,0\\r\\nTerrestrial & Aerial,ADD,DTE,0,0,0,0\\r\\nHuman Space Flight,ADD,SR,14,5,11,18\\r\\nNear Earth Robotic - LEO Science,ADD,SR,29,10,22,38\\r\\nNear Earth Robotic - GEO and Near Earth,ADD,SR,4,1,3,5\\r\\nDeep Space Robotic,ADD,SR,1,0,1,1\\r\\nNear Earth Robotic - Low Latency & Complex Needs,ADD,SR,2,1,2,3\\r\\nMission Operations,ADD,SR,0,0,0,0\\r\\nTerrestrial & Aerial,ADD,SR,15,5,11,20\\r\\nLaunch Events DTE,ADD,DTE,0,0,0,0\\r\\nLaunch Events SR,ADD,SR,2,20,30,40\\r\\nHuman Space Flight,FDDN,DTE,4,2,3,6\\r\\nNear Earth Robotic - LEO Science,FDDN,DTE,34,16,27,52\\r\\nNear Earth Robotic - GEO and Near Earth,FDDN,DTE,11,5,9,17\\r\\nDeep Space Robotic,FDDN,DTE,0,0,0,0\\r\\nNear Earth Robotic - Low Latency & Complex Needs,FDDN,DTE,1,0,1,2\\r\\nMission Operations,FDDN,DTE,0,0,0,0\\r\\nTerrestrial & Aerial,FDDN,DTE,0,0,0,0\\r\\nHuman Space Flight,FDDN,SR,14,3,9,16\\r\\nNear Earth Robotic - LEO Science,FDDN,SR,29,7,18,34\\r\\nNear Earth Robotic - GEO and Near Earth,FDDN,SR,4,1,2,5\\r\\nDeep Space Robotic,FDDN,SR,1,0,1,1\\r\\nNear Earth Robotic - Low Latency & Complex Needs,FDDN,SR,2,0,1,2\\r\\nMission Operations,FDDN,SR,0,0,0,0\\r\\nTerrestrial & Aerial,FDDN,SR,15,4,9,18\\r\\n',\n",
              " 'scenario_costs.csv': b'method,other_minutes_sold,cost_scenario,Low,Baseline,High,Current\\r\\nDTE,No,S1,188.4,188.4,102.3,102.3\\r\\nDTE,No,S2,188.4,188.4,188.4,188.4\\r\\nDTE,No,S3,188.4,188.4,188.4,188.4\\r\\nDTE,No,S4,188.4,188.4,188.4,188.4\\r\\nDTE,No,S5,188.4,188.4,188.4,188.4\\r\\nDTE,No,S6,188.4,188.4,188.4,188.4\\r\\nSR,No,S1,59,59,59,59\\r\\nSR,No,S2,66,66,66,66\\r\\nSR,No,S3,66,66,66,66\\r\\nSR,No,S4,66,66,66,66\\r\\nSR,No,S5,63,63,63,63\\r\\nSR,No,S6,68,68,68,68\\r\\nDTE,Yes,S1,23.1,23.1,23.1,37.7\\r\\nDTE,Yes,S2,23.1,23.1,23.1,37.7\\r\\nDTE,Yes,S3,23.4,23.4,23.4,37.7\\r\\nDTE,Yes,S4,23.7,23.7,23.7,37.7\\r\\nDTE,Yes,S5,24,24,24,37.7\\r\\nDTE,Yes,S6,24.4,24,24,37.7\\r\\nSR,Yes,S1,23,23,23,32\\r\\nSR,Yes,S2,30,30,30,39\\r\\nSR,Yes,S3,30,30,30,39\\r\\nSR,Yes,S4,39,39,39,39\\r\\nSR,Yes,S5,37,37,37,37\\r\\nSR,Yes,S6,42,42,42,42\\r\\n'}"
            ]
          },
          "metadata": {},
          "execution_count": 1
        }
      ],
      "source": [
        "from google.colab import files\n",
        "files.upload()"
      ]
    },
    {
      "cell_type": "markdown",
      "source": [
        "Load the following data:\n",
        "\n",
        "* Future missions scenarios\n",
        "* Mean number of minutes per mission use case\n",
        "* Cost scenario data"
      ],
      "metadata": {
        "id": "G45zmbUf7Qgz"
      }
    },
    {
      "cell_type": "code",
      "source": [
        "import pandas as pd\n",
        "\n",
        "missions_data = pd.read_csv('missions.csv')\n",
        "missions_data = missions_data.reset_index()\n",
        "missions_data = pd.melt(\n",
        "    missions_data,\n",
        "    id_vars=['use_case','type','method'],\n",
        "    value_vars=['Current','Low', 'Baseline', 'High'],\n",
        "    var_name='scenario',\n",
        "    value_name='missions'\n",
        "    )\n",
        "print(missions_data.head(3))\n",
        "missions_data = missions_data.to_dict('records')\n",
        "\n",
        "mean_minutes = pd.read_csv('mission_minutes_2023.csv')\n",
        "print(mean_minutes.head(3))\n",
        "mean_minutes = mean_minutes.to_dict('records')\n",
        "mean_minutes\n",
        "cost_data = pd.read_csv('scenario_costs.csv')\n",
        "cost_data = cost_data.reset_index()\n",
        "cost_data = pd.melt(\n",
        "    cost_data,\n",
        "    id_vars=['method','other_minutes_sold','cost_scenario'],\n",
        "    value_vars=['Current','Low', 'Baseline', 'High'],\n",
        "    var_name='scenario',\n",
        "    value_name='cost_usd_min'\n",
        "    )\n",
        "print(cost_data.head(3))\n",
        "cost_data = cost_data.to_dict('records')"
      ],
      "metadata": {
        "colab": {
          "base_uri": "https://localhost:8080/"
        },
        "id": "sMpVmwI9W2d4",
        "outputId": "70fae7c2-5423-44b3-ed9a-99241dbb97bc"
      },
      "execution_count": null,
      "outputs": [
        {
          "output_type": "stream",
          "name": "stdout",
          "text": [
            "                                  use_case type method scenario  missions\n",
            "0                       Human Space Flight  ADD    DTE  Current         4\n",
            "1         Near Earth Robotic - LEO Science  ADD    DTE  Current        34\n",
            "2  Near Earth Robotic - GEO and Near Earth  ADD    DTE  Current        11\n",
            "                                  use_case method  mean_minutes_2023\n",
            "0                       Human Space Flight    DTE             115860\n",
            "1         Near Earth Robotic - LEO Science    DTE              19395\n",
            "2  Near Earth Robotic - GEO and Near Earth    DTE              30865\n",
            "  method other_minutes_sold cost_scenario scenario  cost_usd_min\n",
            "0    DTE                 No            S1  Current         102.3\n",
            "1    DTE                 No            S2  Current         188.4\n",
            "2    DTE                 No            S3  Current         188.4\n"
          ]
        }
      ]
    },
    {
      "cell_type": "markdown",
      "source": [
        "Specify a function for returning unit costs, based on various arguments."
      ],
      "metadata": {
        "id": "W24XxofhAAS3"
      }
    },
    {
      "cell_type": "code",
      "source": [
        "def get_unit_costs(data, method, other_minutes_sold, scenario):\n",
        "  output = {}\n",
        "  for item in data:\n",
        "    if item['method'] == method:\n",
        "      #10 m for DTE, 50 m for LEO/GEO\n",
        "      if item['other_minutes_sold'] == other_minutes_sold:\n",
        "        if item['scenario'] == scenario:\n",
        "          output[item['cost_scenario']] = item['cost_usd_min']\n",
        "\n",
        "  return output\n",
        "\n",
        "print(get_unit_costs(cost_data, 'DTE', 'No', 'Baseline'))"
      ],
      "metadata": {
        "id": "azuCaLa8nUAV",
        "colab": {
          "base_uri": "https://localhost:8080/"
        },
        "outputId": "d3590e81-1179-4566-e3e1-818a7f65de34"
      },
      "execution_count": null,
      "outputs": [
        {
          "output_type": "stream",
          "name": "stdout",
          "text": [
            "{'S1': 188.4, 'S2': 188.4, 'S3': 188.4, 'S4': 188.4, 'S5': 188.4, 'S6': 188.4}\n"
          ]
        }
      ]
    },
    {
      "cell_type": "markdown",
      "source": [
        "Estimate results."
      ],
      "metadata": {
        "id": "hGQxVWpwAEws"
      }
    },
    {
      "cell_type": "code",
      "source": [
        "output = []\n",
        "\n",
        "profit_margin = 1.1 # e.g., 10%\n",
        "\n",
        "for missions in missions_data:\n",
        "  for minutes in mean_minutes:\n",
        "    for other_minutes_sold in ['No','Yes']:\n",
        "      # print(minutes)\n",
        "      if missions['use_case'] == minutes['use_case']:\n",
        "        if missions['method'] == minutes['method']:\n",
        "\n",
        "          # service split is 50/50 for ADD/FDDN, hence .5 value\n",
        "          minutes_total = missions['missions'] * minutes['mean_minutes_2023'] * .5\n",
        "\n",
        "          costs_per_minute = get_unit_costs(\n",
        "              cost_data,\n",
        "              missions['method'],\n",
        "              other_minutes_sold,\n",
        "              missions['scenario']\n",
        "              )\n",
        "\n",
        "          output.append({\n",
        "              'use_case ': missions['use_case'],\n",
        "              'type ': missions['type'],\n",
        "              'method ': missions['method'],\n",
        "              'other_minutes_sold': other_minutes_sold,\n",
        "              'scenario ': missions['scenario'],\n",
        "              'missions': missions['missions'],\n",
        "              'minutes ': minutes_total,\n",
        "              'cost_usd_S1': minutes_total * costs_per_minute['S1'] * profit_margin,\n",
        "              'cost_usd_S2': minutes_total * costs_per_minute['S2'] * profit_margin,\n",
        "              'cost_usd_S3': minutes_total * costs_per_minute['S3'] * profit_margin,\n",
        "              'cost_usd_S4': minutes_total * costs_per_minute['S4'] * profit_margin,\n",
        "              'cost_usd_S5': minutes_total * costs_per_minute['S5'] * profit_margin,\n",
        "              'cost_usd_S6': minutes_total * costs_per_minute['S6'] * profit_margin,\n",
        "          })\n",
        "\n",
        "output = pd.DataFrame(output)\n",
        "output.to_csv('results.csv', index=False)\n"
      ],
      "metadata": {
        "id": "vH94Ad1MXCSh"
      },
      "execution_count": null,
      "outputs": []
    }
  ]
}